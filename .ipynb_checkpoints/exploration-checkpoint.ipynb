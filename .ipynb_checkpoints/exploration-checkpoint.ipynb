{
 "cells": [
  {
   "cell_type": "code",
   "execution_count": 1,
   "metadata": {},
   "outputs": [
    {
     "data": {
      "text/plain": [
       "[(0, 'a'), (1, 'b')]"
      ]
     },
     "execution_count": 1,
     "metadata": {},
     "output_type": "execute_result"
    }
   ],
   "source": [
    "# enumerate函数 产生枚举对象，是一个迭代器\n",
    "[*enumerate(['a','b'])]"
   ]
  },
  {
   "cell_type": "code",
   "execution_count": 2,
   "metadata": {},
   "outputs": [],
   "source": [
    "# 查看特征分布\n",
    "def plot_distribution(data,):\n",
    "    feature = data.name\n",
    "    figure, ax = plt.subplots(figsize=(5,5))\n",
    "    ax.set_title(\"'%s' Feature Distribution\"%(feature), fontsize = 14)\n",
    "    ax.set_xlabel(\"Value\")\n",
    "    ax.set_ylabel(\"Number of Records\")\n",
    "    # diy\n",
    "    ax.hist(data, bins = 50)"
   ]
  },
  {
   "cell_type": "code",
   "execution_count": 3,
   "metadata": {},
   "outputs": [],
   "source": [
    "# 时间转化为整形数字\n",
    "def regularize_date(date):\n",
    "    str=''\n",
    "    for i in date.split('/'):\n",
    "        if len(i) >= 2:\n",
    "            str = i + str\n",
    "        else:\n",
    "            str = '0' + i +str\n",
    "    return int(str)"
   ]
  },
  {
   "cell_type": "code",
   "execution_count": 40,
   "metadata": {},
   "outputs": [],
   "source": [
    "# 处理文本信息,方便分词\n",
    "import re\n",
    "def removePunctuation(text):\n",
    "    # punctuation 自定义re查询字符\n",
    "    punctuation = '!,;:.?\"\\'(){}\\[\\]/#$%^&*\\-+_1234567890`'\n",
    "    text = re.sub(r'[{}]+'.format(punctuation),'',text)\n",
    "    return text.strip().lower()\n",
    "\n",
    "# 自定义分词函数（nltk用不了）\n",
    "def split_word(word):\n",
    "    word_clean = removePunctuation(word)\n",
    "    return word_clean.split() # 默认传参分割任何空格"
   ]
  },
  {
   "cell_type": "code",
   "execution_count": 324,
   "metadata": {},
   "outputs": [],
   "source": [
    "from gensim.corpora import Dictionary\n",
    "from gensim.models import TfidfModel\n",
    "\n",
    "# 取TFIDF模型中最大的值并转化为文本输出\n",
    "# sentence 分好词的句子 [[],[]]\n",
    "def getkeyword(sentence):\n",
    "    # dictionary 按输入sentence生成的词典对象\n",
    "    # new_corpus 计算语料库\n",
    "    # corpus_tfidf 按照语料库生成的tfidf模型\n",
    "    # 做成词典，给每个词打上ID\n",
    "    dictionary = Dictionary(sentence)\n",
    "\n",
    "    # 以 (词id,词频) 的方式记录每个词在每个sentence中出现的次数，\n",
    "    # dictionary.doc2bow(i) i是一个\"句子\"，并且要求以list存放的分好词的\"句子\"，会返回每个词在该\"句子\"中的词频\n",
    "    new_corpus = [dictionary.doc2bow(i) for i in sentence]\n",
    "    \n",
    "    # 训练TF-IDF模型\n",
    "    tfidf = TfidfModel(new_corpus)\n",
    "    \n",
    "    # 从模型中获取每个词的tfidf, 以 (词id, TFIDF) 返回迭代器\n",
    "    corpus_tfidf = tfidf[new_corpus]\n",
    "    \n",
    "    # 从每个句子中获取最大tfidf的词作为该句子的关键词\n",
    "    keywords = []\n",
    "    for line in corpus_tfidf:\n",
    "        c = 0\n",
    "        v = 0\n",
    "        for i in line:\n",
    "            if i[1] > c:\n",
    "                c = i[1]\n",
    "                v = i[0]\n",
    "        # 最后希望输出词语，而不是词id\n",
    "        keywords.append(dictionary.get(v))\n",
    "    return keywords"
   ]
  },
  {
   "cell_type": "code",
   "execution_count": null,
   "metadata": {},
   "outputs": [],
   "source": []
  },
  {
   "cell_type": "markdown",
   "metadata": {},
   "source": [
    "### 数据清洗  \n",
    "- 特征publication_date转数值型，方便喂模型和做归一化  \n",
    "- "
   ]
  },
  {
   "cell_type": "code",
   "execution_count": 31,
   "metadata": {},
   "outputs": [],
   "source": [
    "# 基于MLP\n",
    "# 引入特征工程所需要的的lib\n",
    "import pprint\n",
    "import numpy as np\n",
    "import pandas as pd\n",
    "import matplotlib.pyplot as plt\n",
    "from gensim.models import Word2Vec\n",
    "from sklearn.model_selection import train_test_split\n",
    "from sklearn.preprocessing import MinMaxScaler\n",
    "from IPython.display import display\n",
    "import time"
   ]
  },
  {
   "cell_type": "code",
   "execution_count": 325,
   "metadata": {},
   "outputs": [
    {
     "data": {
      "text/html": [
       "<div>\n",
       "<style scoped>\n",
       "    .dataframe tbody tr th:only-of-type {\n",
       "        vertical-align: middle;\n",
       "    }\n",
       "\n",
       "    .dataframe tbody tr th {\n",
       "        vertical-align: top;\n",
       "    }\n",
       "\n",
       "    .dataframe thead th {\n",
       "        text-align: right;\n",
       "    }\n",
       "</style>\n",
       "<table border=\"1\" class=\"dataframe\">\n",
       "  <thead>\n",
       "    <tr style=\"text-align: right;\">\n",
       "      <th></th>\n",
       "      <th>bookID</th>\n",
       "      <th>title</th>\n",
       "      <th>authors</th>\n",
       "      <th>average_rating</th>\n",
       "      <th>isbn</th>\n",
       "      <th>isbn13</th>\n",
       "      <th>language_code</th>\n",
       "      <th>num_pages</th>\n",
       "      <th>ratings_count</th>\n",
       "      <th>text_reviews_count</th>\n",
       "      <th>publication_date</th>\n",
       "      <th>publisher</th>\n",
       "    </tr>\n",
       "  </thead>\n",
       "  <tbody>\n",
       "    <tr>\n",
       "      <th>0</th>\n",
       "      <td>8253</td>\n",
       "      <td>Little Town on the Prairie  (Little House  #7)</td>\n",
       "      <td>Laura Ingalls Wilder/Garth Williams</td>\n",
       "      <td>4.19</td>\n",
       "      <td>0060885432</td>\n",
       "      <td>9780060885434</td>\n",
       "      <td>eng</td>\n",
       "      <td>374</td>\n",
       "      <td>71853</td>\n",
       "      <td>646</td>\n",
       "      <td>20070101</td>\n",
       "      <td>HarperTrophy</td>\n",
       "    </tr>\n",
       "    <tr>\n",
       "      <th>1</th>\n",
       "      <td>11101</td>\n",
       "      <td>First Comes Love (Hot Water  California #1)</td>\n",
       "      <td>Christie Ridgway</td>\n",
       "      <td>3.81</td>\n",
       "      <td>0380818957</td>\n",
       "      <td>9780380818952</td>\n",
       "      <td>en-US</td>\n",
       "      <td>384</td>\n",
       "      <td>1051</td>\n",
       "      <td>47</td>\n",
       "      <td>20020101</td>\n",
       "      <td>Avon Books</td>\n",
       "    </tr>\n",
       "    <tr>\n",
       "      <th>2</th>\n",
       "      <td>28193</td>\n",
       "      <td>When Santa Fell to Earth</td>\n",
       "      <td>Cornelia Funke/Paul   Howard/Oliver G. Latsch</td>\n",
       "      <td>3.76</td>\n",
       "      <td>043978204X</td>\n",
       "      <td>9780439782043</td>\n",
       "      <td>eng</td>\n",
       "      <td>167</td>\n",
       "      <td>1840</td>\n",
       "      <td>245</td>\n",
       "      <td>20060110</td>\n",
       "      <td>Chicken House / Scholastic</td>\n",
       "    </tr>\n",
       "    <tr>\n",
       "      <th>3</th>\n",
       "      <td>25047</td>\n",
       "      <td>The Case of the Stinky Science Project (Jigsaw...</td>\n",
       "      <td>James Preller/John Speirs/James Preller</td>\n",
       "      <td>3.83</td>\n",
       "      <td>0439114284</td>\n",
       "      <td>9780439114288</td>\n",
       "      <td>en-US</td>\n",
       "      <td>80</td>\n",
       "      <td>162</td>\n",
       "      <td>11</td>\n",
       "      <td>20010103</td>\n",
       "      <td>Scholastic Paperbacks</td>\n",
       "    </tr>\n",
       "    <tr>\n",
       "      <th>4</th>\n",
       "      <td>17800</td>\n",
       "      <td>Dance Dance Dance</td>\n",
       "      <td>Haruki Murakami</td>\n",
       "      <td>4.04</td>\n",
       "      <td>0099448769</td>\n",
       "      <td>9780099448761</td>\n",
       "      <td>eng</td>\n",
       "      <td>393</td>\n",
       "      <td>50169</td>\n",
       "      <td>2117</td>\n",
       "      <td>20020702</td>\n",
       "      <td>Vintage</td>\n",
       "    </tr>\n",
       "  </tbody>\n",
       "</table>\n",
       "</div>"
      ],
      "text/plain": [
       "   bookID                                              title  \\\n",
       "0    8253     Little Town on the Prairie  (Little House  #7)   \n",
       "1   11101        First Comes Love (Hot Water  California #1)   \n",
       "2   28193                           When Santa Fell to Earth   \n",
       "3   25047  The Case of the Stinky Science Project (Jigsaw...   \n",
       "4   17800                                  Dance Dance Dance   \n",
       "\n",
       "                                         authors  average_rating        isbn  \\\n",
       "0            Laura Ingalls Wilder/Garth Williams            4.19  0060885432   \n",
       "1                               Christie Ridgway            3.81  0380818957   \n",
       "2  Cornelia Funke/Paul   Howard/Oliver G. Latsch            3.76  043978204X   \n",
       "3        James Preller/John Speirs/James Preller            3.83  0439114284   \n",
       "4                                Haruki Murakami            4.04  0099448769   \n",
       "\n",
       "          isbn13 language_code  num_pages  ratings_count  text_reviews_count  \\\n",
       "0  9780060885434           eng        374          71853                 646   \n",
       "1  9780380818952         en-US        384           1051                  47   \n",
       "2  9780439782043           eng        167           1840                 245   \n",
       "3  9780439114288         en-US         80            162                  11   \n",
       "4  9780099448761           eng        393          50169                2117   \n",
       "\n",
       "   publication_date                   publisher  \n",
       "0          20070101                HarperTrophy  \n",
       "1          20020101                  Avon Books  \n",
       "2          20060110  Chicken House / Scholastic  \n",
       "3          20010103       Scholastic Paperbacks  \n",
       "4          20020702                     Vintage  "
      ]
     },
     "metadata": {},
     "output_type": "display_data"
    },
    {
     "data": {
      "text/plain": [
       "(10000, 12)"
      ]
     },
     "metadata": {},
     "output_type": "display_data"
    },
    {
     "data": {
      "text/plain": [
       "bookID                False\n",
       "title                 False\n",
       "authors               False\n",
       "average_rating        False\n",
       "isbn                  False\n",
       "isbn13                False\n",
       "language_code         False\n",
       "num_pages             False\n",
       "ratings_count         False\n",
       "text_reviews_count    False\n",
       "publication_date      False\n",
       "publisher             False\n",
       "dtype: bool"
      ]
     },
     "metadata": {},
     "output_type": "display_data"
    }
   ],
   "source": [
    "# 导入数据\n",
    "data_path      = 'Train_data.csv'\n",
    "data_test_path = 'Test_data.csv'\n",
    "data           = pd.read_csv(data_path, encoding='utf-8')\n",
    "data_test      = pd.read_csv(data_test_path, encoding='utf-8')\n",
    "#data.columns.apply(lambda x:strip(x))\n",
    "\n",
    "# 除去字段空格\n",
    "data.columns = [i.strip() for i in data.columns]\n",
    "# 处理时间字段,转化为时间戳\n",
    "data.publication_date = data.publication_date.apply(lambda x : regularize_date(x))\n",
    "\n",
    "# 查看数据整体情况\n",
    "display(data.head(),data.shape)\n",
    "\n",
    "# 是否存在缺失值\n",
    "display(data.isnull().any(axis = 0))"
   ]
  },
  {
   "cell_type": "code",
   "execution_count": 7,
   "metadata": {},
   "outputs": [
    {
     "data": {
      "image/png": "[encoded data removed]",
      "text/plain": [
       "<Figure size 360x360 with 1 Axes>"
      ]
     },
     "metadata": {
      "needs_background": "light"
     },
     "output_type": "display_data"
    }
   ],
   "source": [
    "# 查看预测目标、即感兴趣的特征的分布情况\n",
    "plot_distribution(data.average_rating, )"
   ]
  },
  {
   "cell_type": "code",
   "execution_count": 8,
   "metadata": {
    "collapsed": true,
    "jupyter": {
     "outputs_hidden": true
    }
   },
   "outputs": [
    {
     "data": {
      "text/plain": [
       "0       6.472346\n",
       "1       3.871201\n",
       "2       5.505332\n",
       "3       2.484907\n",
       "4       7.658228\n",
       "          ...   \n",
       "9995    2.079442\n",
       "9996    6.068426\n",
       "9997    2.397895\n",
       "9998    0.000000\n",
       "9999    2.079442\n",
       "Name: log_text_reviews_count, Length: 10000, dtype: float64"
      ]
     },
     "metadata": {},
     "output_type": "display_data"
    },
    {
     "data": {
      "image/png": "[encoded data removed]",
      "text/plain": [
       "<Figure size 360x360 with 1 Axes>"
      ]
     },
     "metadata": {
      "needs_background": "light"
     },
     "output_type": "display_data"
    },
    {
     "data": {
      "image/png": "[encoded data removed]",
      "text/plain": [
       "<Figure size 360x360 with 1 Axes>"
      ]
     },
     "metadata": {
      "needs_background": "light"
     },
     "output_type": "display_data"
    }
   ],
   "source": [
    "# text_reviews_count 评论数量\n",
    "plot_distribution(data.text_reviews_count, )\n",
    "dealt_data = data.text_reviews_count.apply(lambda x:np.log(x+1))\n",
    "dealt_data.name = 'log_text_reviews_count'\n",
    "display(dealt_data)\n",
    "plot_distribution(dealt_data, )"
   ]
  },
  {
   "cell_type": "code",
   "execution_count": 9,
   "metadata": {},
   "outputs": [
    {
     "data": {
      "image/png": "[encoded data removed]",
      "text/plain": [
       "<Figure size 360x360 with 1 Axes>"
      ]
     },
     "metadata": {
      "needs_background": "light"
     },
     "output_type": "display_data"
    },
    {
     "data": {
      "image/png": "[encoded data removed]",
      "text/plain": [
       "<Figure size 360x360 with 1 Axes>"
      ]
     },
     "metadata": {
      "needs_background": "light"
     },
     "output_type": "display_data"
    },
    {
     "data": {
      "image/png": "[encoded data removed]",
      "text/plain": [
       "<Figure size 360x360 with 1 Axes>"
      ]
     },
     "metadata": {
      "needs_background": "light"
     },
     "output_type": "display_data"
    },
    {
     "data": {
      "image/png": "[encoded data removed]",
      "text/plain": [
       "<Figure size 360x360 with 1 Axes>"
      ]
     },
     "metadata": {
      "needs_background": "light"
     },
     "output_type": "display_data"
    }
   ],
   "source": [
    "# 先重点关注几个continuous data特征\n",
    "for i in ['num_pages', 'ratings_count', 'text_reviews_count', 'publication_date']:\n",
    "    try:\n",
    "        plot_distribution(data[i], )\n",
    "    except BaseException as e:\n",
    "        print(e)"
   ]
  },
  {
   "cell_type": "markdown",
   "metadata": {},
   "source": [
    "### 文本处理"
   ]
  },
  {
   "cell_type": "code",
   "execution_count": 166,
   "metadata": {},
   "outputs": [
    {
     "name": "stdout",
     "output_type": "stream",
     "text": [
      "分词结束,取top3句子检查：\n",
      " [['little', 'town', 'on', 'the', 'prairie', 'little', 'house'], ['first', 'comes', 'love', 'hot', 'water', 'california'], ['when', 'santa', 'fell', 'to', 'earth']]\n"
     ]
    }
   ],
   "source": [
    "# 1.2.1 分词预训练词向量\n",
    "title_data_train = data.title\n",
    "title_data_test = data_test.title\n",
    "title_data = pd.concat([title_data_train, title_data_test], ignore_index=1)\n",
    "sentence = []\n",
    "for i in title_data: \n",
    "    sentence.append(split_word(i))\n",
    "\n",
    "print('分词结束,取top3句子检查：\\n', sentence[:3])"
   ]
  },
  {
   "cell_type": "code",
   "execution_count": 48,
   "metadata": {},
   "outputs": [],
   "source": [
    "# 1.2.2 把文本数据转化词向量\n",
    "# min_count = 1 由于数据集很小,所以有1个就会进入计算,防止词丢失\n",
    "w2v_model = Word2Vec(sentences=sentence, size=50, min_count=1)\n",
    "w2v_model.save(\"bdc_word2vec.model\")\n",
    "w2v_model = Word2Vec.load('bdc_word2vec.model')"
   ]
  },
  {
   "cell_type": "code",
   "execution_count": 153,
   "metadata": {},
   "outputs": [
    {
     "name": "stdout",
     "output_type": "stream",
     "text": [
      "查看当前word2vec模型下,computer和my的表达向量:\n",
      " [[-1.0254054e-01  7.5605186e-03  3.5716433e-02 -7.0665278e-02\n",
      "  -2.7054911e-03 -8.9421626e-03  2.2852637e-02  9.6849941e-02\n",
      "  -4.1761585e-03 -2.1382367e-02  4.1080862e-02  5.1465556e-02\n",
      "  -3.9826766e-02  5.2590970e-02 -1.1832463e-01  5.4354012e-02\n",
      "  -9.1033340e-02  1.2141986e-02  5.4736007e-02  2.6847109e-02\n",
      "   2.4238614e-02 -5.1816750e-02  4.8214369e-02  1.4790565e-01\n",
      "  -2.3025410e-02 -4.9665105e-03  6.3396394e-02 -4.6596628e-02\n",
      "   5.2443538e-02  6.0891253e-03 -1.1508133e-02 -2.6002036e-02\n",
      "   2.2882901e-02  5.3212076e-02 -3.4974642e-02  2.6613107e-02\n",
      "  -2.3301404e-03 -4.0044056e-04 -5.4775723e-03  4.2863514e-02\n",
      "   7.3326938e-02 -3.5560071e-02  1.4385156e-02 -7.1099475e-02\n",
      "  -6.4906077e-03  3.4777772e-02 -5.0860558e-02  5.9692759e-02\n",
      "   3.0494826e-02 -7.4224144e-02]\n",
      " [-1.0419167e+00  7.5783670e-02  3.1532636e-01 -6.7594707e-01\n",
      "  -3.3263408e-02 -1.3175386e-01  2.3052005e-01  1.0344397e+00\n",
      "  -7.0143580e-02 -1.3684013e-01  4.1857877e-01  5.6557393e-01\n",
      "  -3.9858663e-01  5.3777725e-01 -1.1175717e+00  5.4051697e-01\n",
      "  -8.9390397e-01  1.4161958e-01  4.8705348e-01  2.4682486e-01\n",
      "   2.2576250e-01 -6.3450378e-01  4.1544330e-01  1.5343252e+00\n",
      "  -3.1334341e-01 -3.3269990e-02  6.3764352e-01 -5.3491813e-01\n",
      "   6.0005152e-01  1.1169287e-02 -2.4216216e-02 -2.2375506e-01\n",
      "   2.5470698e-01  6.2866855e-01 -3.6540982e-01  2.7087581e-01\n",
      "   7.1165964e-02  6.5235026e-02 -1.3630399e-01  3.8439590e-01\n",
      "   7.5272954e-01 -4.3642661e-01  1.8146318e-01 -6.5635771e-01\n",
      "  -1.5753314e-01  3.1411326e-01 -4.4304362e-01  6.8998450e-01\n",
      "   2.5821277e-01 -8.2791722e-01]]\n"
     ]
    }
   ],
   "source": [
    "print('查看当前word2vec模型下,computer和my的表达向量:\\n', w2v_model.wv[['computer', 'my']])"
   ]
  },
  {
   "cell_type": "code",
   "execution_count": 143,
   "metadata": {},
   "outputs": [],
   "source": [
    "# 抽取关键词（每句中TF-IDF最大值的词）\n",
    "# corpus_tfidf = tfidf[new_corpus]\n",
    "# 获取关键词 keywords\n",
    "keywords = getkeyword(sentence)\n",
    "keywords_vec = w2v_model.wv[keywords]"
   ]
  },
  {
   "cell_type": "code",
   "execution_count": 145,
   "metadata": {},
   "outputs": [
    {
     "data": {
      "text/plain": [
       "numpy.ndarray"
      ]
     },
     "execution_count": 145,
     "metadata": {},
     "output_type": "execute_result"
    }
   ],
   "source": [
    "type(keywords_vec)"
   ]
  },
  {
   "cell_type": "code",
   "execution_count": 146,
   "metadata": {},
   "outputs": [
    {
     "data": {
      "text/plain": [
       "11000"
      ]
     },
     "execution_count": 146,
     "metadata": {},
     "output_type": "execute_result"
    }
   ],
   "source": [
    "len(keywords_vec)"
   ]
  },
  {
   "cell_type": "code",
   "execution_count": 167,
   "metadata": {},
   "outputs": [],
   "source": [
    "# 把原title的关键词，转化为N维词向量表示\n",
    "title_data = keywords_vec[:len(title_data_train)]\n",
    "title_data_test = keywords_vec[-len(title_data_test):]"
   ]
  },
  {
   "cell_type": "markdown",
   "metadata": {},
   "source": [
    "检查词向量表达是否对齐,\n",
    "抽查关键词查找是否相对合理,"
   ]
  },
  {
   "cell_type": "code",
   "execution_count": 169,
   "metadata": {},
   "outputs": [
    {
     "data": {
      "text/plain": [
       "array([-0.03141074, -0.00116384,  0.01055623, -0.01409011,  0.00836165,\n",
       "       -0.00642777,  0.01445252,  0.03402783, -0.00926357, -0.00604288,\n",
       "        0.01505413,  0.02102763, -0.01447519,  0.00941524, -0.03135257,\n",
       "        0.01252999, -0.02017596,  0.01193538,  0.02110334, -0.00024581,\n",
       "        0.00425608, -0.01035169,  0.00437745,  0.0388747 , -0.00712774,\n",
       "        0.00409723,  0.00977561, -0.01951378,  0.02432415,  0.00987962,\n",
       "       -0.00417582, -0.0044214 ,  0.01482423,  0.01303068, -0.01044828,\n",
       "        0.00316265, -0.00731089,  0.01020455,  0.00646794, -0.00065986,\n",
       "        0.01851091, -0.00437974,  0.01275494, -0.01249666,  0.00343833,\n",
       "        0.01648898, -0.00180637,  0.00753103,  0.00272681, -0.01464701],\n",
       "      dtype=float32)"
      ]
     },
     "execution_count": 169,
     "metadata": {},
     "output_type": "execute_result"
    }
   ],
   "source": [
    "title_data_test[0]"
   ]
  },
  {
   "cell_type": "code",
   "execution_count": 189,
   "metadata": {},
   "outputs": [
    {
     "data": {
      "text/plain": [
       "array([-0.03141074, -0.00116384,  0.01055623, -0.01409011,  0.00836165,\n",
       "       -0.00642777,  0.01445252,  0.03402783, -0.00926357, -0.00604288,\n",
       "        0.01505413,  0.02102763, -0.01447519,  0.00941524, -0.03135257,\n",
       "        0.01252999, -0.02017596,  0.01193538,  0.02110334, -0.00024581,\n",
       "        0.00425608, -0.01035169,  0.00437745,  0.0388747 , -0.00712774,\n",
       "        0.00409723,  0.00977561, -0.01951378,  0.02432415,  0.00987962,\n",
       "       -0.00417582, -0.0044214 ,  0.01482423,  0.01303068, -0.01044828,\n",
       "        0.00316265, -0.00731089,  0.01020455,  0.00646794, -0.00065986,\n",
       "        0.01851091, -0.00437974,  0.01275494, -0.01249666,  0.00343833,\n",
       "        0.01648898, -0.00180637,  0.00753103,  0.00272681, -0.01464701],\n",
       "      dtype=float32)"
      ]
     },
     "execution_count": 189,
     "metadata": {},
     "output_type": "execute_result"
    }
   ],
   "source": [
    "keywords_vec[10000]"
   ]
  },
  {
   "cell_type": "code",
   "execution_count": 188,
   "metadata": {},
   "outputs": [
    {
     "data": {
      "text/plain": [
       "'crisis'"
      ]
     },
     "execution_count": 188,
     "metadata": {},
     "output_type": "execute_result"
    }
   ],
   "source": [
    "keywords[10020]"
   ]
  },
  {
   "cell_type": "code",
   "execution_count": 187,
   "metadata": {},
   "outputs": [
    {
     "data": {
      "text/plain": [
       "'Identity Crisis'"
      ]
     },
     "execution_count": 187,
     "metadata": {},
     "output_type": "execute_result"
    }
   ],
   "source": [
    "data_test.title[20]"
   ]
  },
  {
   "cell_type": "markdown",
   "metadata": {},
   "source": [
    "### one-hot"
   ]
  },
  {
   "cell_type": "code",
   "execution_count": 307,
   "metadata": {},
   "outputs": [],
   "source": [
    "# 先简化下数据集吧, 先不处理publisher和authors两个字段\n",
    "# 构建新的数据集，先drop了出版者和作者，看看词向量效果如何\n",
    "new_data = data.drop(columns=['title', 'isbn', 'bookID', 'publisher', 'authors'])\n",
    "test = pd.DataFrame(title_data, columns=[('title_vec_'+str(i)) for i in range(len(title_data[0]))])"
   ]
  },
  {
   "cell_type": "code",
   "execution_count": 308,
   "metadata": {},
   "outputs": [
    {
     "data": {
      "text/html": [
       "<div>\n",
       "<style scoped>\n",
       "    .dataframe tbody tr th:only-of-type {\n",
       "        vertical-align: middle;\n",
       "    }\n",
       "\n",
       "    .dataframe tbody tr th {\n",
       "        vertical-align: top;\n",
       "    }\n",
       "\n",
       "    .dataframe thead th {\n",
       "        text-align: right;\n",
       "    }\n",
       "</style>\n",
       "<table border=\"1\" class=\"dataframe\">\n",
       "  <thead>\n",
       "    <tr style=\"text-align: right;\">\n",
       "      <th></th>\n",
       "      <th>average_rating</th>\n",
       "      <th>isbn13</th>\n",
       "      <th>language_code</th>\n",
       "      <th>num_pages</th>\n",
       "      <th>ratings_count</th>\n",
       "      <th>text_reviews_count</th>\n",
       "      <th>publication_date</th>\n",
       "    </tr>\n",
       "  </thead>\n",
       "  <tbody>\n",
       "    <tr>\n",
       "      <th>0</th>\n",
       "      <td>4.19</td>\n",
       "      <td>9780060885434</td>\n",
       "      <td>eng</td>\n",
       "      <td>374</td>\n",
       "      <td>71853</td>\n",
       "      <td>646</td>\n",
       "      <td>20070101</td>\n",
       "    </tr>\n",
       "    <tr>\n",
       "      <th>1</th>\n",
       "      <td>3.81</td>\n",
       "      <td>9780380818952</td>\n",
       "      <td>en-US</td>\n",
       "      <td>384</td>\n",
       "      <td>1051</td>\n",
       "      <td>47</td>\n",
       "      <td>20020101</td>\n",
       "    </tr>\n",
       "    <tr>\n",
       "      <th>2</th>\n",
       "      <td>3.76</td>\n",
       "      <td>9780439782043</td>\n",
       "      <td>eng</td>\n",
       "      <td>167</td>\n",
       "      <td>1840</td>\n",
       "      <td>245</td>\n",
       "      <td>20060110</td>\n",
       "    </tr>\n",
       "    <tr>\n",
       "      <th>3</th>\n",
       "      <td>3.83</td>\n",
       "      <td>9780439114288</td>\n",
       "      <td>en-US</td>\n",
       "      <td>80</td>\n",
       "      <td>162</td>\n",
       "      <td>11</td>\n",
       "      <td>20010103</td>\n",
       "    </tr>\n",
       "    <tr>\n",
       "      <th>4</th>\n",
       "      <td>4.04</td>\n",
       "      <td>9780099448761</td>\n",
       "      <td>eng</td>\n",
       "      <td>393</td>\n",
       "      <td>50169</td>\n",
       "      <td>2117</td>\n",
       "      <td>20020702</td>\n",
       "    </tr>\n",
       "  </tbody>\n",
       "</table>\n",
       "</div>"
      ],
      "text/plain": [
       "   average_rating         isbn13 language_code  num_pages  ratings_count  \\\n",
       "0            4.19  9780060885434           eng        374          71853   \n",
       "1            3.81  9780380818952         en-US        384           1051   \n",
       "2            3.76  9780439782043           eng        167           1840   \n",
       "3            3.83  9780439114288         en-US         80            162   \n",
       "4            4.04  9780099448761           eng        393          50169   \n",
       "\n",
       "   text_reviews_count  publication_date  \n",
       "0                 646          20070101  \n",
       "1                  47          20020101  \n",
       "2                 245          20060110  \n",
       "3                  11          20010103  \n",
       "4                2117          20020702  "
      ]
     },
     "execution_count": 308,
     "metadata": {},
     "output_type": "execute_result"
    }
   ],
   "source": [
    "new_data.head(5)"
   ]
  },
  {
   "cell_type": "code",
   "execution_count": 309,
   "metadata": {},
   "outputs": [
    {
     "data": {
      "text/html": [
       "<div>\n",
       "<style scoped>\n",
       "    .dataframe tbody tr th:only-of-type {\n",
       "        vertical-align: middle;\n",
       "    }\n",
       "\n",
       "    .dataframe tbody tr th {\n",
       "        vertical-align: top;\n",
       "    }\n",
       "\n",
       "    .dataframe thead th {\n",
       "        text-align: right;\n",
       "    }\n",
       "</style>\n",
       "<table border=\"1\" class=\"dataframe\">\n",
       "  <thead>\n",
       "    <tr style=\"text-align: right;\">\n",
       "      <th></th>\n",
       "      <th>title_vec_0</th>\n",
       "      <th>title_vec_1</th>\n",
       "      <th>title_vec_2</th>\n",
       "      <th>title_vec_3</th>\n",
       "      <th>title_vec_4</th>\n",
       "      <th>title_vec_5</th>\n",
       "      <th>title_vec_6</th>\n",
       "      <th>title_vec_7</th>\n",
       "      <th>title_vec_8</th>\n",
       "      <th>title_vec_9</th>\n",
       "      <th>...</th>\n",
       "      <th>title_vec_40</th>\n",
       "      <th>title_vec_41</th>\n",
       "      <th>title_vec_42</th>\n",
       "      <th>title_vec_43</th>\n",
       "      <th>title_vec_44</th>\n",
       "      <th>title_vec_45</th>\n",
       "      <th>title_vec_46</th>\n",
       "      <th>title_vec_47</th>\n",
       "      <th>title_vec_48</th>\n",
       "      <th>title_vec_49</th>\n",
       "    </tr>\n",
       "  </thead>\n",
       "  <tbody>\n",
       "    <tr>\n",
       "      <th>0</th>\n",
       "      <td>-0.781016</td>\n",
       "      <td>0.049052</td>\n",
       "      <td>0.247506</td>\n",
       "      <td>-0.508720</td>\n",
       "      <td>-0.028404</td>\n",
       "      <td>-0.098965</td>\n",
       "      <td>0.180613</td>\n",
       "      <td>0.765649</td>\n",
       "      <td>-0.035719</td>\n",
       "      <td>-0.105581</td>\n",
       "      <td>...</td>\n",
       "      <td>0.569125</td>\n",
       "      <td>-0.321906</td>\n",
       "      <td>0.155105</td>\n",
       "      <td>-0.470583</td>\n",
       "      <td>-0.121234</td>\n",
       "      <td>0.241099</td>\n",
       "      <td>-0.332592</td>\n",
       "      <td>0.529952</td>\n",
       "      <td>0.185461</td>\n",
       "      <td>-0.615939</td>\n",
       "    </tr>\n",
       "    <tr>\n",
       "      <th>1</th>\n",
       "      <td>-0.048879</td>\n",
       "      <td>0.011986</td>\n",
       "      <td>0.016007</td>\n",
       "      <td>-0.040465</td>\n",
       "      <td>0.006830</td>\n",
       "      <td>-0.000512</td>\n",
       "      <td>0.003227</td>\n",
       "      <td>0.055370</td>\n",
       "      <td>0.001014</td>\n",
       "      <td>-0.002840</td>\n",
       "      <td>...</td>\n",
       "      <td>0.029633</td>\n",
       "      <td>-0.026437</td>\n",
       "      <td>0.004754</td>\n",
       "      <td>-0.025743</td>\n",
       "      <td>-0.009082</td>\n",
       "      <td>0.018027</td>\n",
       "      <td>-0.031640</td>\n",
       "      <td>0.026373</td>\n",
       "      <td>0.008810</td>\n",
       "      <td>-0.041538</td>\n",
       "    </tr>\n",
       "    <tr>\n",
       "      <th>2</th>\n",
       "      <td>-0.011812</td>\n",
       "      <td>0.009927</td>\n",
       "      <td>-0.000534</td>\n",
       "      <td>-0.016062</td>\n",
       "      <td>0.008028</td>\n",
       "      <td>-0.002372</td>\n",
       "      <td>0.011658</td>\n",
       "      <td>0.019914</td>\n",
       "      <td>-0.002366</td>\n",
       "      <td>0.008002</td>\n",
       "      <td>...</td>\n",
       "      <td>0.005025</td>\n",
       "      <td>-0.009147</td>\n",
       "      <td>0.007955</td>\n",
       "      <td>-0.015855</td>\n",
       "      <td>0.005110</td>\n",
       "      <td>0.001280</td>\n",
       "      <td>-0.000633</td>\n",
       "      <td>0.008046</td>\n",
       "      <td>0.010313</td>\n",
       "      <td>-0.013177</td>\n",
       "    </tr>\n",
       "    <tr>\n",
       "      <th>3</th>\n",
       "      <td>-0.014622</td>\n",
       "      <td>-0.000345</td>\n",
       "      <td>-0.003417</td>\n",
       "      <td>-0.011921</td>\n",
       "      <td>-0.003629</td>\n",
       "      <td>-0.010856</td>\n",
       "      <td>0.006182</td>\n",
       "      <td>0.012500</td>\n",
       "      <td>-0.001906</td>\n",
       "      <td>-0.002113</td>\n",
       "      <td>...</td>\n",
       "      <td>0.011988</td>\n",
       "      <td>-0.016520</td>\n",
       "      <td>-0.002324</td>\n",
       "      <td>-0.017745</td>\n",
       "      <td>0.005043</td>\n",
       "      <td>-0.004256</td>\n",
       "      <td>-0.008751</td>\n",
       "      <td>0.004202</td>\n",
       "      <td>-0.001869</td>\n",
       "      <td>-0.012708</td>\n",
       "    </tr>\n",
       "    <tr>\n",
       "      <th>4</th>\n",
       "      <td>-0.177726</td>\n",
       "      <td>0.020315</td>\n",
       "      <td>0.056250</td>\n",
       "      <td>-0.116738</td>\n",
       "      <td>-0.016646</td>\n",
       "      <td>-0.028050</td>\n",
       "      <td>0.033655</td>\n",
       "      <td>0.180455</td>\n",
       "      <td>-0.001607</td>\n",
       "      <td>-0.023277</td>\n",
       "      <td>...</td>\n",
       "      <td>0.129878</td>\n",
       "      <td>-0.081047</td>\n",
       "      <td>0.037761</td>\n",
       "      <td>-0.108831</td>\n",
       "      <td>-0.036260</td>\n",
       "      <td>0.063717</td>\n",
       "      <td>-0.078933</td>\n",
       "      <td>0.117864</td>\n",
       "      <td>0.047689</td>\n",
       "      <td>-0.135561</td>\n",
       "    </tr>\n",
       "  </tbody>\n",
       "</table>\n",
       "<p>5 rows × 50 columns</p>\n",
       "</div>"
      ],
      "text/plain": [
       "   title_vec_0  title_vec_1  title_vec_2  title_vec_3  title_vec_4  \\\n",
       "0    -0.781016     0.049052     0.247506    -0.508720    -0.028404   \n",
       "1    -0.048879     0.011986     0.016007    -0.040465     0.006830   \n",
       "2    -0.011812     0.009927    -0.000534    -0.016062     0.008028   \n",
       "3    -0.014622    -0.000345    -0.003417    -0.011921    -0.003629   \n",
       "4    -0.177726     0.020315     0.056250    -0.116738    -0.016646   \n",
       "\n",
       "   title_vec_5  title_vec_6  title_vec_7  title_vec_8  title_vec_9  ...  \\\n",
       "0    -0.098965     0.180613     0.765649    -0.035719    -0.105581  ...   \n",
       "1    -0.000512     0.003227     0.055370     0.001014    -0.002840  ...   \n",
       "2    -0.002372     0.011658     0.019914    -0.002366     0.008002  ...   \n",
       "3    -0.010856     0.006182     0.012500    -0.001906    -0.002113  ...   \n",
       "4    -0.028050     0.033655     0.180455    -0.001607    -0.023277  ...   \n",
       "\n",
       "   title_vec_40  title_vec_41  title_vec_42  title_vec_43  title_vec_44  \\\n",
       "0      0.569125     -0.321906      0.155105     -0.470583     -0.121234   \n",
       "1      0.029633     -0.026437      0.004754     -0.025743     -0.009082   \n",
       "2      0.005025     -0.009147      0.007955     -0.015855      0.005110   \n",
       "3      0.011988     -0.016520     -0.002324     -0.017745      0.005043   \n",
       "4      0.129878     -0.081047      0.037761     -0.108831     -0.036260   \n",
       "\n",
       "   title_vec_45  title_vec_46  title_vec_47  title_vec_48  title_vec_49  \n",
       "0      0.241099     -0.332592      0.529952      0.185461     -0.615939  \n",
       "1      0.018027     -0.031640      0.026373      0.008810     -0.041538  \n",
       "2      0.001280     -0.000633      0.008046      0.010313     -0.013177  \n",
       "3     -0.004256     -0.008751      0.004202     -0.001869     -0.012708  \n",
       "4      0.063717     -0.078933      0.117864      0.047689     -0.135561  \n",
       "\n",
       "[5 rows x 50 columns]"
      ]
     },
     "metadata": {},
     "output_type": "display_data"
    },
    {
     "name": "stdout",
     "output_type": "stream",
     "text": [
      "10000\n"
     ]
    }
   ],
   "source": [
    "display(test.head(5))\n",
    "print(len(test))"
   ]
  },
  {
   "cell_type": "code",
   "execution_count": 310,
   "metadata": {},
   "outputs": [
    {
     "data": {
      "text/html": [
       "<div>\n",
       "<style scoped>\n",
       "    .dataframe tbody tr th:only-of-type {\n",
       "        vertical-align: middle;\n",
       "    }\n",
       "\n",
       "    .dataframe tbody tr th {\n",
       "        vertical-align: top;\n",
       "    }\n",
       "\n",
       "    .dataframe thead th {\n",
       "        text-align: right;\n",
       "    }\n",
       "</style>\n",
       "<table border=\"1\" class=\"dataframe\">\n",
       "  <thead>\n",
       "    <tr style=\"text-align: right;\">\n",
       "      <th></th>\n",
       "      <th>average_rating</th>\n",
       "      <th>isbn13</th>\n",
       "      <th>language_code</th>\n",
       "      <th>num_pages</th>\n",
       "      <th>ratings_count</th>\n",
       "      <th>text_reviews_count</th>\n",
       "      <th>publication_date</th>\n",
       "      <th>title_vec_0</th>\n",
       "      <th>title_vec_1</th>\n",
       "      <th>title_vec_2</th>\n",
       "      <th>...</th>\n",
       "      <th>title_vec_40</th>\n",
       "      <th>title_vec_41</th>\n",
       "      <th>title_vec_42</th>\n",
       "      <th>title_vec_43</th>\n",
       "      <th>title_vec_44</th>\n",
       "      <th>title_vec_45</th>\n",
       "      <th>title_vec_46</th>\n",
       "      <th>title_vec_47</th>\n",
       "      <th>title_vec_48</th>\n",
       "      <th>title_vec_49</th>\n",
       "    </tr>\n",
       "  </thead>\n",
       "  <tbody>\n",
       "    <tr>\n",
       "      <th>0</th>\n",
       "      <td>4.19</td>\n",
       "      <td>9780060885434</td>\n",
       "      <td>eng</td>\n",
       "      <td>374</td>\n",
       "      <td>71853</td>\n",
       "      <td>646</td>\n",
       "      <td>20070101</td>\n",
       "      <td>-0.781016</td>\n",
       "      <td>0.049052</td>\n",
       "      <td>0.247506</td>\n",
       "      <td>...</td>\n",
       "      <td>0.569125</td>\n",
       "      <td>-0.321906</td>\n",
       "      <td>0.155105</td>\n",
       "      <td>-0.470583</td>\n",
       "      <td>-0.121234</td>\n",
       "      <td>0.241099</td>\n",
       "      <td>-0.332592</td>\n",
       "      <td>0.529952</td>\n",
       "      <td>0.185461</td>\n",
       "      <td>-0.615939</td>\n",
       "    </tr>\n",
       "    <tr>\n",
       "      <th>1</th>\n",
       "      <td>3.81</td>\n",
       "      <td>9780380818952</td>\n",
       "      <td>en-US</td>\n",
       "      <td>384</td>\n",
       "      <td>1051</td>\n",
       "      <td>47</td>\n",
       "      <td>20020101</td>\n",
       "      <td>-0.048879</td>\n",
       "      <td>0.011986</td>\n",
       "      <td>0.016007</td>\n",
       "      <td>...</td>\n",
       "      <td>0.029633</td>\n",
       "      <td>-0.026437</td>\n",
       "      <td>0.004754</td>\n",
       "      <td>-0.025743</td>\n",
       "      <td>-0.009082</td>\n",
       "      <td>0.018027</td>\n",
       "      <td>-0.031640</td>\n",
       "      <td>0.026373</td>\n",
       "      <td>0.008810</td>\n",
       "      <td>-0.041538</td>\n",
       "    </tr>\n",
       "    <tr>\n",
       "      <th>2</th>\n",
       "      <td>3.76</td>\n",
       "      <td>9780439782043</td>\n",
       "      <td>eng</td>\n",
       "      <td>167</td>\n",
       "      <td>1840</td>\n",
       "      <td>245</td>\n",
       "      <td>20060110</td>\n",
       "      <td>-0.011812</td>\n",
       "      <td>0.009927</td>\n",
       "      <td>-0.000534</td>\n",
       "      <td>...</td>\n",
       "      <td>0.005025</td>\n",
       "      <td>-0.009147</td>\n",
       "      <td>0.007955</td>\n",
       "      <td>-0.015855</td>\n",
       "      <td>0.005110</td>\n",
       "      <td>0.001280</td>\n",
       "      <td>-0.000633</td>\n",
       "      <td>0.008046</td>\n",
       "      <td>0.010313</td>\n",
       "      <td>-0.013177</td>\n",
       "    </tr>\n",
       "    <tr>\n",
       "      <th>3</th>\n",
       "      <td>3.83</td>\n",
       "      <td>9780439114288</td>\n",
       "      <td>en-US</td>\n",
       "      <td>80</td>\n",
       "      <td>162</td>\n",
       "      <td>11</td>\n",
       "      <td>20010103</td>\n",
       "      <td>-0.014622</td>\n",
       "      <td>-0.000345</td>\n",
       "      <td>-0.003417</td>\n",
       "      <td>...</td>\n",
       "      <td>0.011988</td>\n",
       "      <td>-0.016520</td>\n",
       "      <td>-0.002324</td>\n",
       "      <td>-0.017745</td>\n",
       "      <td>0.005043</td>\n",
       "      <td>-0.004256</td>\n",
       "      <td>-0.008751</td>\n",
       "      <td>0.004202</td>\n",
       "      <td>-0.001869</td>\n",
       "      <td>-0.012708</td>\n",
       "    </tr>\n",
       "    <tr>\n",
       "      <th>4</th>\n",
       "      <td>4.04</td>\n",
       "      <td>9780099448761</td>\n",
       "      <td>eng</td>\n",
       "      <td>393</td>\n",
       "      <td>50169</td>\n",
       "      <td>2117</td>\n",
       "      <td>20020702</td>\n",
       "      <td>-0.177726</td>\n",
       "      <td>0.020315</td>\n",
       "      <td>0.056250</td>\n",
       "      <td>...</td>\n",
       "      <td>0.129878</td>\n",
       "      <td>-0.081047</td>\n",
       "      <td>0.037761</td>\n",
       "      <td>-0.108831</td>\n",
       "      <td>-0.036260</td>\n",
       "      <td>0.063717</td>\n",
       "      <td>-0.078933</td>\n",
       "      <td>0.117864</td>\n",
       "      <td>0.047689</td>\n",
       "      <td>-0.135561</td>\n",
       "    </tr>\n",
       "    <tr>\n",
       "      <th>...</th>\n",
       "      <td>...</td>\n",
       "      <td>...</td>\n",
       "      <td>...</td>\n",
       "      <td>...</td>\n",
       "      <td>...</td>\n",
       "      <td>...</td>\n",
       "      <td>...</td>\n",
       "      <td>...</td>\n",
       "      <td>...</td>\n",
       "      <td>...</td>\n",
       "      <td>...</td>\n",
       "      <td>...</td>\n",
       "      <td>...</td>\n",
       "      <td>...</td>\n",
       "      <td>...</td>\n",
       "      <td>...</td>\n",
       "      <td>...</td>\n",
       "      <td>...</td>\n",
       "      <td>...</td>\n",
       "      <td>...</td>\n",
       "      <td>...</td>\n",
       "    </tr>\n",
       "    <tr>\n",
       "      <th>9995</th>\n",
       "      <td>4.10</td>\n",
       "      <td>9780062700254</td>\n",
       "      <td>eng</td>\n",
       "      <td>768</td>\n",
       "      <td>66</td>\n",
       "      <td>7</td>\n",
       "      <td>19912412</td>\n",
       "      <td>-0.012579</td>\n",
       "      <td>0.007327</td>\n",
       "      <td>0.003723</td>\n",
       "      <td>...</td>\n",
       "      <td>0.001122</td>\n",
       "      <td>-0.005138</td>\n",
       "      <td>0.008148</td>\n",
       "      <td>0.004300</td>\n",
       "      <td>0.003952</td>\n",
       "      <td>0.006022</td>\n",
       "      <td>-0.008254</td>\n",
       "      <td>-0.007926</td>\n",
       "      <td>0.002103</td>\n",
       "      <td>-0.003233</td>\n",
       "    </tr>\n",
       "    <tr>\n",
       "      <th>9996</th>\n",
       "      <td>3.46</td>\n",
       "      <td>9780571164660</td>\n",
       "      <td>eng</td>\n",
       "      <td>161</td>\n",
       "      <td>6994</td>\n",
       "      <td>431</td>\n",
       "      <td>20002607</td>\n",
       "      <td>-0.267628</td>\n",
       "      <td>0.020251</td>\n",
       "      <td>0.083938</td>\n",
       "      <td>...</td>\n",
       "      <td>0.186498</td>\n",
       "      <td>-0.103351</td>\n",
       "      <td>0.044105</td>\n",
       "      <td>-0.173164</td>\n",
       "      <td>-0.045981</td>\n",
       "      <td>0.086150</td>\n",
       "      <td>-0.102021</td>\n",
       "      <td>0.183847</td>\n",
       "      <td>0.069892</td>\n",
       "      <td>-0.223567</td>\n",
       "    </tr>\n",
       "    <tr>\n",
       "      <th>9997</th>\n",
       "      <td>4.08</td>\n",
       "      <td>9780679602712</td>\n",
       "      <td>eng</td>\n",
       "      <td>425</td>\n",
       "      <td>81</td>\n",
       "      <td>10</td>\n",
       "      <td>19970508</td>\n",
       "      <td>-0.042753</td>\n",
       "      <td>0.012650</td>\n",
       "      <td>0.024437</td>\n",
       "      <td>...</td>\n",
       "      <td>0.037432</td>\n",
       "      <td>-0.009389</td>\n",
       "      <td>0.003934</td>\n",
       "      <td>-0.025610</td>\n",
       "      <td>0.001612</td>\n",
       "      <td>0.005221</td>\n",
       "      <td>-0.029295</td>\n",
       "      <td>0.040801</td>\n",
       "      <td>0.009835</td>\n",
       "      <td>-0.038291</td>\n",
       "    </tr>\n",
       "    <tr>\n",
       "      <th>9998</th>\n",
       "      <td>3.90</td>\n",
       "      <td>9780307376640</td>\n",
       "      <td>spa</td>\n",
       "      <td>432</td>\n",
       "      <td>2</td>\n",
       "      <td>0</td>\n",
       "      <td>20060711</td>\n",
       "      <td>-0.013571</td>\n",
       "      <td>0.008466</td>\n",
       "      <td>-0.001778</td>\n",
       "      <td>...</td>\n",
       "      <td>0.015887</td>\n",
       "      <td>0.001498</td>\n",
       "      <td>0.007012</td>\n",
       "      <td>-0.005831</td>\n",
       "      <td>0.007359</td>\n",
       "      <td>0.008683</td>\n",
       "      <td>0.001039</td>\n",
       "      <td>0.002539</td>\n",
       "      <td>0.001419</td>\n",
       "      <td>-0.009774</td>\n",
       "    </tr>\n",
       "    <tr>\n",
       "      <th>9999</th>\n",
       "      <td>3.84</td>\n",
       "      <td>9780807011010</td>\n",
       "      <td>eng</td>\n",
       "      <td>231</td>\n",
       "      <td>129</td>\n",
       "      <td>7</td>\n",
       "      <td>19860301</td>\n",
       "      <td>-0.107318</td>\n",
       "      <td>0.011381</td>\n",
       "      <td>0.023509</td>\n",
       "      <td>...</td>\n",
       "      <td>0.078146</td>\n",
       "      <td>-0.043106</td>\n",
       "      <td>0.019757</td>\n",
       "      <td>-0.069803</td>\n",
       "      <td>-0.007592</td>\n",
       "      <td>0.021747</td>\n",
       "      <td>-0.041578</td>\n",
       "      <td>0.068605</td>\n",
       "      <td>0.032711</td>\n",
       "      <td>-0.090285</td>\n",
       "    </tr>\n",
       "  </tbody>\n",
       "</table>\n",
       "<p>10000 rows × 57 columns</p>\n",
       "</div>"
      ],
      "text/plain": [
       "      average_rating         isbn13 language_code  num_pages  ratings_count  \\\n",
       "0               4.19  9780060885434           eng        374          71853   \n",
       "1               3.81  9780380818952         en-US        384           1051   \n",
       "2               3.76  9780439782043           eng        167           1840   \n",
       "3               3.83  9780439114288         en-US         80            162   \n",
       "4               4.04  9780099448761           eng        393          50169   \n",
       "...              ...            ...           ...        ...            ...   \n",
       "9995            4.10  9780062700254           eng        768             66   \n",
       "9996            3.46  9780571164660           eng        161           6994   \n",
       "9997            4.08  9780679602712           eng        425             81   \n",
       "9998            3.90  9780307376640           spa        432              2   \n",
       "9999            3.84  9780807011010           eng        231            129   \n",
       "\n",
       "      text_reviews_count  publication_date  title_vec_0  title_vec_1  \\\n",
       "0                    646          20070101    -0.781016     0.049052   \n",
       "1                     47          20020101    -0.048879     0.011986   \n",
       "2                    245          20060110    -0.011812     0.009927   \n",
       "3                     11          20010103    -0.014622    -0.000345   \n",
       "4                   2117          20020702    -0.177726     0.020315   \n",
       "...                  ...               ...          ...          ...   \n",
       "9995                   7          19912412    -0.012579     0.007327   \n",
       "9996                 431          20002607    -0.267628     0.020251   \n",
       "9997                  10          19970508    -0.042753     0.012650   \n",
       "9998                   0          20060711    -0.013571     0.008466   \n",
       "9999                   7          19860301    -0.107318     0.011381   \n",
       "\n",
       "      title_vec_2  ...  title_vec_40  title_vec_41  title_vec_42  \\\n",
       "0        0.247506  ...      0.569125     -0.321906      0.155105   \n",
       "1        0.016007  ...      0.029633     -0.026437      0.004754   \n",
       "2       -0.000534  ...      0.005025     -0.009147      0.007955   \n",
       "3       -0.003417  ...      0.011988     -0.016520     -0.002324   \n",
       "4        0.056250  ...      0.129878     -0.081047      0.037761   \n",
       "...           ...  ...           ...           ...           ...   \n",
       "9995     0.003723  ...      0.001122     -0.005138      0.008148   \n",
       "9996     0.083938  ...      0.186498     -0.103351      0.044105   \n",
       "9997     0.024437  ...      0.037432     -0.009389      0.003934   \n",
       "9998    -0.001778  ...      0.015887      0.001498      0.007012   \n",
       "9999     0.023509  ...      0.078146     -0.043106      0.019757   \n",
       "\n",
       "      title_vec_43  title_vec_44  title_vec_45  title_vec_46  title_vec_47  \\\n",
       "0        -0.470583     -0.121234      0.241099     -0.332592      0.529952   \n",
       "1        -0.025743     -0.009082      0.018027     -0.031640      0.026373   \n",
       "2        -0.015855      0.005110      0.001280     -0.000633      0.008046   \n",
       "3        -0.017745      0.005043     -0.004256     -0.008751      0.004202   \n",
       "4        -0.108831     -0.036260      0.063717     -0.078933      0.117864   \n",
       "...            ...           ...           ...           ...           ...   \n",
       "9995      0.004300      0.003952      0.006022     -0.008254     -0.007926   \n",
       "9996     -0.173164     -0.045981      0.086150     -0.102021      0.183847   \n",
       "9997     -0.025610      0.001612      0.005221     -0.029295      0.040801   \n",
       "9998     -0.005831      0.007359      0.008683      0.001039      0.002539   \n",
       "9999     -0.069803     -0.007592      0.021747     -0.041578      0.068605   \n",
       "\n",
       "      title_vec_48  title_vec_49  \n",
       "0         0.185461     -0.615939  \n",
       "1         0.008810     -0.041538  \n",
       "2         0.010313     -0.013177  \n",
       "3        -0.001869     -0.012708  \n",
       "4         0.047689     -0.135561  \n",
       "...            ...           ...  \n",
       "9995      0.002103     -0.003233  \n",
       "9996      0.069892     -0.223567  \n",
       "9997      0.009835     -0.038291  \n",
       "9998      0.001419     -0.009774  \n",
       "9999      0.032711     -0.090285  \n",
       "\n",
       "[10000 rows x 57 columns]"
      ]
     },
     "metadata": {},
     "output_type": "display_data"
    }
   ],
   "source": [
    "new_data = pd.concat([new_data , test], axis=1)\n",
    "display(new_data)"
   ]
  },
  {
   "cell_type": "code",
   "execution_count": null,
   "metadata": {},
   "outputs": [],
   "source": [
    "MLPRegression(a, b, c)"
   ]
  },
  {
   "cell_type": "markdown",
   "metadata": {},
   "source": []
  },
  {
   "cell_type": "code",
   "execution_count": null,
   "metadata": {},
   "outputs": [],
   "source": []
  },
  {
   "cell_type": "code",
   "execution_count": null,
   "metadata": {},
   "outputs": [],
   "source": []
  },
  {
   "cell_type": "code",
   "execution_count": null,
   "metadata": {},
   "outputs": [],
   "source": []
  },
  {
   "cell_type": "code",
   "execution_count": null,
   "metadata": {},
   "outputs": [],
   "source": []
  },
  {
   "cell_type": "code",
   "execution_count": 320,
   "metadata": {},
   "outputs": [
    {
     "data": {
      "text/plain": [
       "eng       8001\n",
       "en-US     1285\n",
       "en-GB      189\n",
       "spa        187\n",
       "fre        130\n",
       "ger         85\n",
       "codex2      79\n",
       "jpn         44\n",
       "Name: language_code, dtype: int64"
      ]
     },
     "execution_count": 320,
     "metadata": {},
     "output_type": "execute_result"
    }
   ],
   "source": []
  },
  {
   "cell_type": "code",
   "execution_count": 323,
   "metadata": {},
   "outputs": [
    {
     "name": "stderr",
     "output_type": "stream",
     "text": [
      "<ipython-input-323-f6d02adaad98>:9: SettingWithCopyWarning: \n",
      "A value is trying to be set on a copy of a slice from a DataFrame\n",
      "\n",
      "See the caveats in the documentation: https://pandas.pydata.org/pandas-docs/stable/user_guide/indexing.html#returning-a-view-versus-a-copy\n",
      "  new_data['language_code'][get_bool] = 'codex2'\n"
     ]
    },
    {
     "data": {
      "text/html": [
       "<div>\n",
       "<style scoped>\n",
       "    .dataframe tbody tr th:only-of-type {\n",
       "        vertical-align: middle;\n",
       "    }\n",
       "\n",
       "    .dataframe tbody tr th {\n",
       "        vertical-align: top;\n",
       "    }\n",
       "\n",
       "    .dataframe thead th {\n",
       "        text-align: right;\n",
       "    }\n",
       "</style>\n",
       "<table border=\"1\" class=\"dataframe\">\n",
       "  <thead>\n",
       "    <tr style=\"text-align: right;\">\n",
       "      <th></th>\n",
       "      <th>average_rating</th>\n",
       "      <th>isbn13</th>\n",
       "      <th>language_code</th>\n",
       "      <th>num_pages</th>\n",
       "      <th>ratings_count</th>\n",
       "      <th>text_reviews_count</th>\n",
       "      <th>publication_date</th>\n",
       "      <th>title_vec_0</th>\n",
       "      <th>title_vec_1</th>\n",
       "      <th>title_vec_2</th>\n",
       "      <th>...</th>\n",
       "      <th>title_vec_40</th>\n",
       "      <th>title_vec_41</th>\n",
       "      <th>title_vec_42</th>\n",
       "      <th>title_vec_43</th>\n",
       "      <th>title_vec_44</th>\n",
       "      <th>title_vec_45</th>\n",
       "      <th>title_vec_46</th>\n",
       "      <th>title_vec_47</th>\n",
       "      <th>title_vec_48</th>\n",
       "      <th>title_vec_49</th>\n",
       "    </tr>\n",
       "  </thead>\n",
       "  <tbody>\n",
       "    <tr>\n",
       "      <th>0</th>\n",
       "      <td>4.19</td>\n",
       "      <td>9780060885434</td>\n",
       "      <td>eng</td>\n",
       "      <td>374</td>\n",
       "      <td>71853</td>\n",
       "      <td>646</td>\n",
       "      <td>20070101</td>\n",
       "      <td>-0.781016</td>\n",
       "      <td>0.049052</td>\n",
       "      <td>0.247506</td>\n",
       "      <td>...</td>\n",
       "      <td>0.569125</td>\n",
       "      <td>-0.321906</td>\n",
       "      <td>0.155105</td>\n",
       "      <td>-0.470583</td>\n",
       "      <td>-0.121234</td>\n",
       "      <td>0.241099</td>\n",
       "      <td>-0.332592</td>\n",
       "      <td>0.529952</td>\n",
       "      <td>0.185461</td>\n",
       "      <td>-0.615939</td>\n",
       "    </tr>\n",
       "    <tr>\n",
       "      <th>1</th>\n",
       "      <td>3.81</td>\n",
       "      <td>9780380818952</td>\n",
       "      <td>en-US</td>\n",
       "      <td>384</td>\n",
       "      <td>1051</td>\n",
       "      <td>47</td>\n",
       "      <td>20020101</td>\n",
       "      <td>-0.048879</td>\n",
       "      <td>0.011986</td>\n",
       "      <td>0.016007</td>\n",
       "      <td>...</td>\n",
       "      <td>0.029633</td>\n",
       "      <td>-0.026437</td>\n",
       "      <td>0.004754</td>\n",
       "      <td>-0.025743</td>\n",
       "      <td>-0.009082</td>\n",
       "      <td>0.018027</td>\n",
       "      <td>-0.031640</td>\n",
       "      <td>0.026373</td>\n",
       "      <td>0.008810</td>\n",
       "      <td>-0.041538</td>\n",
       "    </tr>\n",
       "    <tr>\n",
       "      <th>2</th>\n",
       "      <td>3.76</td>\n",
       "      <td>9780439782043</td>\n",
       "      <td>eng</td>\n",
       "      <td>167</td>\n",
       "      <td>1840</td>\n",
       "      <td>245</td>\n",
       "      <td>20060110</td>\n",
       "      <td>-0.011812</td>\n",
       "      <td>0.009927</td>\n",
       "      <td>-0.000534</td>\n",
       "      <td>...</td>\n",
       "      <td>0.005025</td>\n",
       "      <td>-0.009147</td>\n",
       "      <td>0.007955</td>\n",
       "      <td>-0.015855</td>\n",
       "      <td>0.005110</td>\n",
       "      <td>0.001280</td>\n",
       "      <td>-0.000633</td>\n",
       "      <td>0.008046</td>\n",
       "      <td>0.010313</td>\n",
       "      <td>-0.013177</td>\n",
       "    </tr>\n",
       "    <tr>\n",
       "      <th>3</th>\n",
       "      <td>3.83</td>\n",
       "      <td>9780439114288</td>\n",
       "      <td>en-US</td>\n",
       "      <td>80</td>\n",
       "      <td>162</td>\n",
       "      <td>11</td>\n",
       "      <td>20010103</td>\n",
       "      <td>-0.014622</td>\n",
       "      <td>-0.000345</td>\n",
       "      <td>-0.003417</td>\n",
       "      <td>...</td>\n",
       "      <td>0.011988</td>\n",
       "      <td>-0.016520</td>\n",
       "      <td>-0.002324</td>\n",
       "      <td>-0.017745</td>\n",
       "      <td>0.005043</td>\n",
       "      <td>-0.004256</td>\n",
       "      <td>-0.008751</td>\n",
       "      <td>0.004202</td>\n",
       "      <td>-0.001869</td>\n",
       "      <td>-0.012708</td>\n",
       "    </tr>\n",
       "    <tr>\n",
       "      <th>4</th>\n",
       "      <td>4.04</td>\n",
       "      <td>9780099448761</td>\n",
       "      <td>eng</td>\n",
       "      <td>393</td>\n",
       "      <td>50169</td>\n",
       "      <td>2117</td>\n",
       "      <td>20020702</td>\n",
       "      <td>-0.177726</td>\n",
       "      <td>0.020315</td>\n",
       "      <td>0.056250</td>\n",
       "      <td>...</td>\n",
       "      <td>0.129878</td>\n",
       "      <td>-0.081047</td>\n",
       "      <td>0.037761</td>\n",
       "      <td>-0.108831</td>\n",
       "      <td>-0.036260</td>\n",
       "      <td>0.063717</td>\n",
       "      <td>-0.078933</td>\n",
       "      <td>0.117864</td>\n",
       "      <td>0.047689</td>\n",
       "      <td>-0.135561</td>\n",
       "    </tr>\n",
       "    <tr>\n",
       "      <th>...</th>\n",
       "      <td>...</td>\n",
       "      <td>...</td>\n",
       "      <td>...</td>\n",
       "      <td>...</td>\n",
       "      <td>...</td>\n",
       "      <td>...</td>\n",
       "      <td>...</td>\n",
       "      <td>...</td>\n",
       "      <td>...</td>\n",
       "      <td>...</td>\n",
       "      <td>...</td>\n",
       "      <td>...</td>\n",
       "      <td>...</td>\n",
       "      <td>...</td>\n",
       "      <td>...</td>\n",
       "      <td>...</td>\n",
       "      <td>...</td>\n",
       "      <td>...</td>\n",
       "      <td>...</td>\n",
       "      <td>...</td>\n",
       "      <td>...</td>\n",
       "    </tr>\n",
       "    <tr>\n",
       "      <th>9995</th>\n",
       "      <td>4.10</td>\n",
       "      <td>9780062700254</td>\n",
       "      <td>eng</td>\n",
       "      <td>768</td>\n",
       "      <td>66</td>\n",
       "      <td>7</td>\n",
       "      <td>19912412</td>\n",
       "      <td>-0.012579</td>\n",
       "      <td>0.007327</td>\n",
       "      <td>0.003723</td>\n",
       "      <td>...</td>\n",
       "      <td>0.001122</td>\n",
       "      <td>-0.005138</td>\n",
       "      <td>0.008148</td>\n",
       "      <td>0.004300</td>\n",
       "      <td>0.003952</td>\n",
       "      <td>0.006022</td>\n",
       "      <td>-0.008254</td>\n",
       "      <td>-0.007926</td>\n",
       "      <td>0.002103</td>\n",
       "      <td>-0.003233</td>\n",
       "    </tr>\n",
       "    <tr>\n",
       "      <th>9996</th>\n",
       "      <td>3.46</td>\n",
       "      <td>9780571164660</td>\n",
       "      <td>eng</td>\n",
       "      <td>161</td>\n",
       "      <td>6994</td>\n",
       "      <td>431</td>\n",
       "      <td>20002607</td>\n",
       "      <td>-0.267628</td>\n",
       "      <td>0.020251</td>\n",
       "      <td>0.083938</td>\n",
       "      <td>...</td>\n",
       "      <td>0.186498</td>\n",
       "      <td>-0.103351</td>\n",
       "      <td>0.044105</td>\n",
       "      <td>-0.173164</td>\n",
       "      <td>-0.045981</td>\n",
       "      <td>0.086150</td>\n",
       "      <td>-0.102021</td>\n",
       "      <td>0.183847</td>\n",
       "      <td>0.069892</td>\n",
       "      <td>-0.223567</td>\n",
       "    </tr>\n",
       "    <tr>\n",
       "      <th>9997</th>\n",
       "      <td>4.08</td>\n",
       "      <td>9780679602712</td>\n",
       "      <td>eng</td>\n",
       "      <td>425</td>\n",
       "      <td>81</td>\n",
       "      <td>10</td>\n",
       "      <td>19970508</td>\n",
       "      <td>-0.042753</td>\n",
       "      <td>0.012650</td>\n",
       "      <td>0.024437</td>\n",
       "      <td>...</td>\n",
       "      <td>0.037432</td>\n",
       "      <td>-0.009389</td>\n",
       "      <td>0.003934</td>\n",
       "      <td>-0.025610</td>\n",
       "      <td>0.001612</td>\n",
       "      <td>0.005221</td>\n",
       "      <td>-0.029295</td>\n",
       "      <td>0.040801</td>\n",
       "      <td>0.009835</td>\n",
       "      <td>-0.038291</td>\n",
       "    </tr>\n",
       "    <tr>\n",
       "      <th>9998</th>\n",
       "      <td>3.90</td>\n",
       "      <td>9780307376640</td>\n",
       "      <td>spa</td>\n",
       "      <td>432</td>\n",
       "      <td>2</td>\n",
       "      <td>0</td>\n",
       "      <td>20060711</td>\n",
       "      <td>-0.013571</td>\n",
       "      <td>0.008466</td>\n",
       "      <td>-0.001778</td>\n",
       "      <td>...</td>\n",
       "      <td>0.015887</td>\n",
       "      <td>0.001498</td>\n",
       "      <td>0.007012</td>\n",
       "      <td>-0.005831</td>\n",
       "      <td>0.007359</td>\n",
       "      <td>0.008683</td>\n",
       "      <td>0.001039</td>\n",
       "      <td>0.002539</td>\n",
       "      <td>0.001419</td>\n",
       "      <td>-0.009774</td>\n",
       "    </tr>\n",
       "    <tr>\n",
       "      <th>9999</th>\n",
       "      <td>3.84</td>\n",
       "      <td>9780807011010</td>\n",
       "      <td>eng</td>\n",
       "      <td>231</td>\n",
       "      <td>129</td>\n",
       "      <td>7</td>\n",
       "      <td>19860301</td>\n",
       "      <td>-0.107318</td>\n",
       "      <td>0.011381</td>\n",
       "      <td>0.023509</td>\n",
       "      <td>...</td>\n",
       "      <td>0.078146</td>\n",
       "      <td>-0.043106</td>\n",
       "      <td>0.019757</td>\n",
       "      <td>-0.069803</td>\n",
       "      <td>-0.007592</td>\n",
       "      <td>0.021747</td>\n",
       "      <td>-0.041578</td>\n",
       "      <td>0.068605</td>\n",
       "      <td>0.032711</td>\n",
       "      <td>-0.090285</td>\n",
       "    </tr>\n",
       "  </tbody>\n",
       "</table>\n",
       "<p>10000 rows × 57 columns</p>\n",
       "</div>"
      ],
      "text/plain": [
       "      average_rating         isbn13 language_code  num_pages  ratings_count  \\\n",
       "0               4.19  9780060885434           eng        374          71853   \n",
       "1               3.81  9780380818952         en-US        384           1051   \n",
       "2               3.76  9780439782043           eng        167           1840   \n",
       "3               3.83  9780439114288         en-US         80            162   \n",
       "4               4.04  9780099448761           eng        393          50169   \n",
       "...              ...            ...           ...        ...            ...   \n",
       "9995            4.10  9780062700254           eng        768             66   \n",
       "9996            3.46  9780571164660           eng        161           6994   \n",
       "9997            4.08  9780679602712           eng        425             81   \n",
       "9998            3.90  9780307376640           spa        432              2   \n",
       "9999            3.84  9780807011010           eng        231            129   \n",
       "\n",
       "      text_reviews_count  publication_date  title_vec_0  title_vec_1  \\\n",
       "0                    646          20070101    -0.781016     0.049052   \n",
       "1                     47          20020101    -0.048879     0.011986   \n",
       "2                    245          20060110    -0.011812     0.009927   \n",
       "3                     11          20010103    -0.014622    -0.000345   \n",
       "4                   2117          20020702    -0.177726     0.020315   \n",
       "...                  ...               ...          ...          ...   \n",
       "9995                   7          19912412    -0.012579     0.007327   \n",
       "9996                 431          20002607    -0.267628     0.020251   \n",
       "9997                  10          19970508    -0.042753     0.012650   \n",
       "9998                   0          20060711    -0.013571     0.008466   \n",
       "9999                   7          19860301    -0.107318     0.011381   \n",
       "\n",
       "      title_vec_2  ...  title_vec_40  title_vec_41  title_vec_42  \\\n",
       "0        0.247506  ...      0.569125     -0.321906      0.155105   \n",
       "1        0.016007  ...      0.029633     -0.026437      0.004754   \n",
       "2       -0.000534  ...      0.005025     -0.009147      0.007955   \n",
       "3       -0.003417  ...      0.011988     -0.016520     -0.002324   \n",
       "4        0.056250  ...      0.129878     -0.081047      0.037761   \n",
       "...           ...  ...           ...           ...           ...   \n",
       "9995     0.003723  ...      0.001122     -0.005138      0.008148   \n",
       "9996     0.083938  ...      0.186498     -0.103351      0.044105   \n",
       "9997     0.024437  ...      0.037432     -0.009389      0.003934   \n",
       "9998    -0.001778  ...      0.015887      0.001498      0.007012   \n",
       "9999     0.023509  ...      0.078146     -0.043106      0.019757   \n",
       "\n",
       "      title_vec_43  title_vec_44  title_vec_45  title_vec_46  title_vec_47  \\\n",
       "0        -0.470583     -0.121234      0.241099     -0.332592      0.529952   \n",
       "1        -0.025743     -0.009082      0.018027     -0.031640      0.026373   \n",
       "2        -0.015855      0.005110      0.001280     -0.000633      0.008046   \n",
       "3        -0.017745      0.005043     -0.004256     -0.008751      0.004202   \n",
       "4        -0.108831     -0.036260      0.063717     -0.078933      0.117864   \n",
       "...            ...           ...           ...           ...           ...   \n",
       "9995      0.004300      0.003952      0.006022     -0.008254     -0.007926   \n",
       "9996     -0.173164     -0.045981      0.086150     -0.102021      0.183847   \n",
       "9997     -0.025610      0.001612      0.005221     -0.029295      0.040801   \n",
       "9998     -0.005831      0.007359      0.008683      0.001039      0.002539   \n",
       "9999     -0.069803     -0.007592      0.021747     -0.041578      0.068605   \n",
       "\n",
       "      title_vec_48  title_vec_49  \n",
       "0         0.185461     -0.615939  \n",
       "1         0.008810     -0.041538  \n",
       "2         0.010313     -0.013177  \n",
       "3        -0.001869     -0.012708  \n",
       "4         0.047689     -0.135561  \n",
       "...            ...           ...  \n",
       "9995      0.002103     -0.003233  \n",
       "9996      0.069892     -0.223567  \n",
       "9997      0.009835     -0.038291  \n",
       "9998      0.001419     -0.009774  \n",
       "9999      0.032711     -0.090285  \n",
       "\n",
       "[10000 rows x 57 columns]"
      ]
     },
     "metadata": {},
     "output_type": "display_data"
    },
    {
     "data": {
      "text/plain": [
       "eng       8001\n",
       "en-US     1285\n",
       "en-GB      189\n",
       "spa        187\n",
       "fre        130\n",
       "ger         85\n",
       "codex2      79\n",
       "jpn         44\n",
       "Name: language_code, dtype: int64"
      ]
     },
     "metadata": {},
     "output_type": "display_data"
    }
   ],
   "source": [
    "# one-hot encode\n",
    "from sklearn.preprocessing import LabelEncoder\n",
    "\n",
    "# 先对language_encode进行预处理，\n",
    "# 首先将少量编码类型合并\n",
    "# 用正则方式实现类SQL where方法\n",
    "get_bool = new_data['language_code'].str.contains(r'^(?:(?!eng|en-US|en-GB|spa|fre|ger|jpn).)*$')\n",
    "\n",
    "new_data['language_code'][get_bool] = 'codex2'\n",
    "\n",
    "display(new_data)\n",
    "display(new_data['language_code'].value_counts())"
   ]
  },
  {
   "cell_type": "code",
   "execution_count": null,
   "metadata": {},
   "outputs": [],
   "source": []
  },
  {
   "cell_type": "code",
   "execution_count": null,
   "metadata": {},
   "outputs": [],
   "source": []
  },
  {
   "cell_type": "code",
   "execution_count": null,
   "metadata": {},
   "outputs": [],
   "source": []
  },
  {
   "cell_type": "code",
   "execution_count": null,
   "metadata": {},
   "outputs": [],
   "source": []
  },
  {
   "cell_type": "code",
   "execution_count": null,
   "metadata": {},
   "outputs": [],
   "source": []
  },
  {
   "cell_type": "code",
   "execution_count": null,
   "metadata": {},
   "outputs": [],
   "source": []
  },
  {
   "cell_type": "code",
   "execution_count": null,
   "metadata": {},
   "outputs": [],
   "source": []
  },
  {
   "cell_type": "markdown",
   "metadata": {},
   "source": [
    "构建训练和测试环境"
   ]
  },
  {
   "cell_type": "code",
   "execution_count": 23,
   "metadata": {},
   "outputs": [],
   "source": [
    "from sklearn.neural_network import MLPClassifier"
   ]
  },
  {
   "cell_type": "code",
   "execution_count": null,
   "metadata": {},
   "outputs": [],
   "source": []
  },
  {
   "cell_type": "code",
   "execution_count": null,
   "metadata": {},
   "outputs": [],
   "source": []
  },
  {
   "cell_type": "code",
   "execution_count": null,
   "metadata": {},
   "outputs": [],
   "source": []
  },
  {
   "cell_type": "code",
   "execution_count": null,
   "metadata": {},
   "outputs": [],
   "source": []
  },
  {
   "cell_type": "code",
   "execution_count": null,
   "metadata": {},
   "outputs": [],
   "source": []
  },
  {
   "cell_type": "code",
   "execution_count": null,
   "metadata": {},
   "outputs": [],
   "source": []
  },
  {
   "cell_type": "code",
   "execution_count": null,
   "metadata": {},
   "outputs": [],
   "source": []
  },
  {
   "cell_type": "code",
   "execution_count": null,
   "metadata": {},
   "outputs": [],
   "source": []
  },
  {
   "cell_type": "code",
   "execution_count": null,
   "metadata": {},
   "outputs": [],
   "source": []
  },
  {
   "cell_type": "code",
   "execution_count": null,
   "metadata": {},
   "outputs": [],
   "source": []
  },
  {
   "cell_type": "code",
   "execution_count": null,
   "metadata": {},
   "outputs": [],
   "source": []
  },
  {
   "cell_type": "code",
   "execution_count": null,
   "metadata": {},
   "outputs": [],
   "source": []
  },
  {
   "cell_type": "code",
   "execution_count": null,
   "metadata": {},
   "outputs": [],
   "source": []
  },
  {
   "cell_type": "code",
   "execution_count": null,
   "metadata": {},
   "outputs": [],
   "source": []
  },
  {
   "cell_type": "code",
   "execution_count": null,
   "metadata": {},
   "outputs": [],
   "source": []
  },
  {
   "cell_type": "code",
   "execution_count": 90,
   "metadata": {},
   "outputs": [
    {
     "name": "stdout",
     "output_type": "stream",
     "text": [
      "[[(0, 1), (1, 2), (2, 1), (3, 1), (4, 1), (5, 1)], [(6, 1), (7, 1), (8, 1), (9, 1), (10, 1), (11, 1)]]\n",
      "[['little', 'town', 'on', 'the', 'prairie', 'little', 'house'], ['first', 'comes', 'love', 'hot', 'water', 'california']]\n"
     ]
    }
   ],
   "source": [
    "# TF-IDF based on gensim\n",
    "# 文档 > 文本 > 词\n",
    "# TF:每个词的次数/该文本中出现最多的词的次数\n",
    "# IDF：log_2(N/df), df:整个文档中包含某词的文本个数\n",
    "\n",
    "# 流程：分词->建语料库->练tfidf模型->输入语料->输出tfidf值\n",
    "from gensim.corpora import Dictionary\n",
    "from gensim.models import TfidfModel\n",
    "\n",
    "\n",
    "# 做成词典，给每个词打上ID\n",
    "dictionary = Dictionary(sentence)\n",
    "\n",
    "# 以 (词id,词频) 的方式记录每个词在每个sentence中出现的次数，\n",
    "# dictionary.doc2bow(text) 输入以list存放的分好词的\"句子\"，并返回每个词在该文本的词频\n",
    "new_corpus = [dictionary.doc2bow(text) for text in sentence]\n",
    "\n",
    "# \n",
    "print(new_corpus[:2])\n",
    "print(sentence[:2])"
   ]
  },
  {
   "cell_type": "code",
   "execution_count": 75,
   "metadata": {},
   "outputs": [
    {
     "data": {
      "text/plain": [
       "[(1, 1), (750, 1)]"
      ]
     },
     "execution_count": 75,
     "metadata": {},
     "output_type": "execute_result"
    }
   ],
   "source": [
    "# dictionary.doc2bow 查阅已生成字典,输出为 (词id-词频)\n",
    "#dictionary.doc2bow(['computer','computer','first','first','first'])\n",
    "dictionary.doc2bow(['little','computer'])"
   ]
  },
  {
   "cell_type": "code",
   "execution_count": 136,
   "metadata": {},
   "outputs": [
    {
     "data": {
      "text/plain": [
       "'little'"
      ]
     },
     "execution_count": 136,
     "metadata": {},
     "output_type": "execute_result"
    }
   ],
   "source": [
    "# 通过词id找到指定的词\n",
    "dictionary.get(1)"
   ]
  },
  {
   "cell_type": "code",
   "execution_count": 135,
   "metadata": {},
   "outputs": [
    {
     "data": {
      "text/plain": [
       "[1]"
      ]
     },
     "execution_count": 135,
     "metadata": {},
     "output_type": "execute_result"
    }
   ],
   "source": [
    "# 通过词找到指定id\n",
    "dictionary.doc2idx(['little'])"
   ]
  },
  {
   "cell_type": "code",
   "execution_count": 91,
   "metadata": {},
   "outputs": [],
   "source": [
    "# 训练TF-IDF模型\n",
    "tfidf = TfidfModel(new_corpus)\n",
    "tfidf.save(\"bdc_tfidf.model\")\n",
    "tfidf = TfidfModel.load(\"bdc_tfidf.model\")\n",
    "# print(type(tfidf)) :: <class 'gensim.models.tfidfmodel.TfidfModel'>"
   ]
  },
  {
   "cell_type": "code",
   "execution_count": 138,
   "metadata": {},
   "outputs": [],
   "source": [
    "# 抽取关键词（每句中TF-IDF最大值的词）\n",
    "# corpus_tfidf = tfidf[new_corpus]\n",
    "# 获取关键词 keywords\n",
    "keywords = getkeyword(sentence)"
   ]
  }
 ],
 "metadata": {
  "kernelspec": {
   "display_name": "Python 3",
   "language": "python",
   "name": "python3"
  },
  "language_info": {
   "codemirror_mode": {
    "name": "ipython",
    "version": 3
   },
   "file_extension": ".py",
   "mimetype": "text/x-python",
   "name": "python",
   "nbconvert_exporter": "python",
   "pygments_lexer": "ipython3",
   "version": "3.8.3"
  }
 },
 "nbformat": 4,
 "nbformat_minor": 4
}
